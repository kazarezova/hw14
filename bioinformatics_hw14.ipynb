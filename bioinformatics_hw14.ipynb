{
 "cells": [
  {
   "cell_type": "markdown",
   "metadata": {},
   "source": [
    "# 1\n",
    "Привести пример двух 100-элементных выборок, корреляция Спирмена которых равна 1, а корреляция Пирсона меньше 0.5."
   ]
  },
  {
   "cell_type": "code",
   "execution_count": 24,
   "metadata": {},
   "outputs": [
    {
     "name": "stdout",
     "output_type": "stream",
     "text": [
      "pearson:  0.2520320339038703\n",
      "spearman:  0.9999999999999999\n"
     ]
    },
    {
     "data": {
      "text/plain": [
       "<matplotlib.axes._subplots.AxesSubplot at 0x29401064808>"
      ]
     },
     "execution_count": 24,
     "metadata": {},
     "output_type": "execute_result"
    },
    {
     "data": {
      "image/png": "[encoded data removed]",
      "text/plain": [
       "<Figure size 432x288 with 1 Axes>"
      ]
     },
     "metadata": {
      "needs_background": "light"
     },
     "output_type": "display_data"
    }
   ],
   "source": [
    "from scipy.stats import pearsonr, spearmanr\n",
    "import seaborn as sns\n",
    "import numpy as np\n",
    "\n",
    "l1=[]\n",
    "l2=[]\n",
    "for i in range(100):\n",
    "    l1.append(i)\n",
    "    l2.append(np.exp(i))\n",
    "\n",
    "print('pearson: ',pearsonr(l1, l2)[0])\n",
    "print('spearman: ',spearmanr(l1, l2)[0])\n",
    "sns.scatterplot(x=l1,y=l2)"
   ]
  },
  {
   "cell_type": "markdown",
   "metadata": {},
   "source": [
    "# 2\n",
    "Привести пример двух 100-элементных выборок, корреляция Пирсона которых больше 0.9, а корреляция Спирмена меньше 0.1."
   ]
  },
  {
   "cell_type": "code",
   "execution_count": 148,
   "metadata": {},
   "outputs": [
    {
     "name": "stdout",
     "output_type": "stream",
     "text": [
      "pearson:  0.9945720403136884\n",
      "spearman:  -0.0399039903990399\n"
     ]
    },
    {
     "data": {
      "text/plain": [
       "<matplotlib.axes._subplots.AxesSubplot at 0x2940d79fc88>"
      ]
     },
     "execution_count": 148,
     "metadata": {},
     "output_type": "execute_result"
    },
    {
     "data": {
      "image/png": "[encoded data removed]",
      "text/plain": [
       "<Figure size 432x288 with 1 Axes>"
      ]
     },
     "metadata": {
      "needs_background": "light"
     },
     "output_type": "display_data"
    }
   ],
   "source": [
    "from scipy.stats import pearsonr, spearmanr\n",
    "import math\n",
    "import numpy as np\n",
    "\n",
    "l1=[]\n",
    "l2=[]\n",
    "for i in range(20):\n",
    "    l1.append((-1)*i)\n",
    "    l2.append(i)\n",
    "for i in range(20,100):\n",
    "    l1.append((-1)*i+1000)\n",
    "    l2.append(i+1000)\n",
    "\n",
    "print('pearson: ',pearsonr(l1, l2)[0])\n",
    "print('spearman: ',spearmanr(l1, l2)[0])\n",
    "sns.scatterplot(x=l1,y=l2)"
   ]
  },
  {
   "cell_type": "markdown",
   "metadata": {},
   "source": [
    "# 3\n",
    "Выявить гены, коэкспрессируемые с транскрипционным фактором SPI1 в клетках молочной железы (файл healthy_breast.tsv, отсечка на абсолютное значение корреляции Спирмена — 0.8). Предположите, какие функции выполняет данный ТФ."
   ]
  },
  {
   "cell_type": "code",
   "execution_count": 84,
   "metadata": {},
   "outputs": [
    {
     "name": "stdout",
     "output_type": "stream",
     "text": [
      "с транскрипционным фактором SPI1 в клетках молочной железы коэспрессированы 88 генов (spearmanr>=0.8)\n",
      "ADAP2 0.8372247142889345\n",
      "AIF1 0.8976985325609179\n",
      "ALOX5AP 0.8116268061222189\n",
      "ARHGAP30 0.8141514325000563\n",
      "ARPC1B 0.8251876563803169\n",
      "ARRB2 0.9225120032459482\n",
      "C19orf38 0.8069021481865518\n",
      "C1QA 0.8757613326420667\n",
      "C1QB 0.8890246376484908\n",
      "C1QC 0.9209521448053557\n",
      "C3AR1 0.8088046344927078\n",
      "CCR1 0.8390280188445325\n",
      "CD14 0.8062800081148705\n",
      "CD300A 0.8292631246759687\n",
      "CD300C 0.8953542366386402\n",
      "CD300LB 0.8133038793589252\n",
      "CD33 0.8364312602844713\n",
      "CD4 0.8788900660460294\n",
      "CD74 0.8259720938620021\n",
      "CD86 0.8427879088429547\n",
      "CFP 0.8159367040100984\n",
      "CLEC10A 0.8118341861461127\n",
      "CORO7 0.8411469016973603\n",
      "COTL1 0.828081960192052\n",
      "CRYBB1 0.8202646349435341\n",
      "CSF1R 0.8283795054437256\n",
      "CTSB 0.8238441944863963\n",
      "CYTH4 0.8824335594977798\n",
      "DOK2 0.9153799337285576\n",
      "DOK3 0.857015981786624\n",
      "FCER1G 0.8664292315668461\n",
      "FERMT3 0.9426098325180894\n",
      "FGD2 0.8621914658611906\n",
      "FGR 0.8353763271194463\n",
      "FMNL1 0.8568356513310641\n",
      "GPSM3 0.879214660866037\n",
      "HAVCR2 0.8366025742172533\n",
      "HCK 0.964222437616933\n",
      "HCLS1 0.8690169736041296\n",
      "HCST 0.8576651714266393\n",
      "HK3 0.8462682866352591\n",
      "HLA-DMB 0.8298221490882041\n",
      "IL10RA 0.8253138876992088\n",
      "IRF5 0.8704325676802741\n",
      "ITGAM 0.8664202150440682\n",
      "ITGB2 0.9183734192908504\n",
      "KCNAB2 0.8578815679733112\n",
      "LAPTM5 0.8450240064918964\n",
      "LGALS9 0.8091202127899375\n",
      "LILRA5 0.8286950837409554\n",
      "LILRA6 0.814304713387282\n",
      "LILRB1 0.8314361066654645\n",
      "LILRB2 0.8643644478506863\n",
      "LILRB3 0.8551946441854699\n",
      "LILRB4 0.8790974460699231\n",
      "LINC01272 0.805883281112639\n",
      "LRRC25 0.8881770845073598\n",
      "LYL1 0.801014358812524\n",
      "MILR1 0.8118251696233348\n",
      "MYO1F 0.8729121114442217\n",
      "NCF1 0.8769965962626513\n",
      "NCF1B 0.8409214886279106\n",
      "NCF1C 0.8490994747875482\n",
      "NCF2 0.8128981358339156\n",
      "NCF4 0.876320357054302\n",
      "NCKAP1L 0.8340959808849717\n",
      "NFAM1 0.9306809728828077\n",
      "P2RY6 0.8236818970763925\n",
      "PARVG 0.8158375222595405\n",
      "PIK3R5 0.8785474381804657\n",
      "PLEK 0.8180375538173704\n",
      "PTAFR 0.8596217568694634\n",
      "SELPLG 0.856105312986047\n",
      "SIGLEC7 0.8008791109708541\n",
      "SIGLEC9 0.8867524739084373\n",
      "SIRPB2 0.8041791583075987\n",
      "SLC11A1 0.8055406532470752\n",
      "SLC15A3 0.8795663052543786\n",
      "SLC37A2 0.8085251222865901\n",
      "SLC7A7 0.8440862881229854\n",
      "SPI1 0.9999999999999999\n",
      "TBXAS1 0.8365755246489192\n",
      "TGFB1 0.8253319207447649\n",
      "THEMIS2 0.8181637851362622\n",
      "TNFAIP8L2 0.9135044969907354\n",
      "TYROBP 0.9513558596127404\n",
      "VAV1 0.8968058968058967\n",
      "WAS 0.9151094380452178\n"
     ]
    }
   ],
   "source": [
    "import pandas as pd\n",
    "from scipy.stats import pearsonr, spearmanr\n",
    "\n",
    "df = pd.read_csv(\"healthy_breast.tsv\", sep=\"\\t\", index_col=0)\n",
    "df = df.T\n",
    "coexp={}\n",
    "for i in df.columns:\n",
    "    sr=spearmanr(df['SPI1'],df[i])[0]\n",
    "    if sr>=0.8:\n",
    "        coexp[i]=sr\n",
    "    \n",
    "print('с транскрипционным фактором SPI1 в клетках молочной железы коэспрессированы',len(coexp),'генов (spearmanr>=0.8)')\n",
    "for i in coexp:\n",
    "    print(i,coexp[i])"
   ]
  },
  {
   "cell_type": "markdown",
   "metadata": {},
   "source": [
    "C1Q - serum complement system\n",
    "C3a - anaphylatoxin released during activation of the complement system\n",
    "CCR1 - chemokine receptor\n",
    "CD14 - surface antigen preferentially expressed on monocytes/macrophages\n",
    "CD300L - cell surface glycoproteins with a single IgV-like extracellular domain, involved in the regulation of immune response\n",
    "CD4 - membrane glycoprotein of T lymphocytes. The CD4 antigen acts as a coreceptor with the T-cell receptor on the T lymphocyte to recognize antigens displayed by an antigen presenting cell in the context of class II MHC molecules\n",
    "LILR - leukocyte immunoglobulin like receptor\n",
    "NCF - neutrophil cytosolic factor\n",
    "\n",
    "=> SPI1 is responsible for immune cell differentiation\n",
    "verification from ncbi: transcription factor that activates gene expression during myeloid and B-lymphoid cell development"
   ]
  },
  {
   "cell_type": "markdown",
   "metadata": {},
   "source": [
    "# 4\n",
    "Нарисовать boxplot’ы для визуализации экспрессии генов ESR1,PGR, ERBB2 и MKI67 по подтипам рака молочной железы(BRCA_pam50.tsv). Охарактеризовать данные молекулярныеподтипы (например, Luminal A экспрессирует ESR1,но неэкспрессирует ERBB2 итд)."
   ]
  },
  {
   "cell_type": "code",
   "execution_count": 95,
   "metadata": {},
   "outputs": [
    {
     "data": {
      "text/plain": [
       "<matplotlib.axes._subplots.AxesSubplot at 0x29408f17848>"
      ]
     },
     "execution_count": 95,
     "metadata": {},
     "output_type": "execute_result"
    },
    {
     "data": {
      "image/png": "[encoded data removed]",
      "text/plain": [
       "<Figure size 432x288 with 1 Axes>"
      ]
     },
     "metadata": {
      "needs_background": "light"
     },
     "output_type": "display_data"
    }
   ],
   "source": [
    "import pandas as pd\n",
    "import seaborn as sns\n",
    "import matplotlib.pyplot as plt\n",
    "\n",
    "df = pd.read_csv(\"BRCA_pam50.tsv\", sep=\"\\t\", index_col=0)\n",
    "df = df.loc[:,['ESR1','PGR','ERBB2','MKI67','Subtype']]\n",
    "\n",
    "sns.boxplot(data=df.loc[df['Subtype']=='Healthy'])"
   ]
  },
  {
   "cell_type": "code",
   "execution_count": 96,
   "metadata": {},
   "outputs": [
    {
     "data": {
      "text/plain": [
       "<matplotlib.axes._subplots.AxesSubplot at 0x29408f6c188>"
      ]
     },
     "execution_count": 96,
     "metadata": {},
     "output_type": "execute_result"
    },
    {
     "data": {
      "image/png": "[encoded data removed]",
      "text/plain": [
       "<Figure size 432x288 with 1 Axes>"
      ]
     },
     "metadata": {
      "needs_background": "light"
     },
     "output_type": "display_data"
    }
   ],
   "source": [
    "import pandas as pd\n",
    "import seaborn as sns\n",
    "import matplotlib.pyplot as plt\n",
    "\n",
    "df = pd.read_csv(\"BRCA_pam50.tsv\", sep=\"\\t\", index_col=0)\n",
    "df = df.loc[:,['ESR1','PGR','ERBB2','MKI67','Subtype']]\n",
    "\n",
    "sns.boxplot(data=df.loc[df['Subtype']=='Normal-like'])"
   ]
  },
  {
   "cell_type": "code",
   "execution_count": 97,
   "metadata": {},
   "outputs": [
    {
     "data": {
      "text/plain": [
       "<matplotlib.axes._subplots.AxesSubplot at 0x29404453b48>"
      ]
     },
     "execution_count": 97,
     "metadata": {},
     "output_type": "execute_result"
    },
    {
     "data": {
      "image/png": "[encoded data removed]",
      "text/plain": [
       "<Figure size 432x288 with 1 Axes>"
      ]
     },
     "metadata": {
      "needs_background": "light"
     },
     "output_type": "display_data"
    }
   ],
   "source": [
    "import pandas as pd\n",
    "import seaborn as sns\n",
    "import matplotlib.pyplot as plt\n",
    "\n",
    "df = pd.read_csv(\"BRCA_pam50.tsv\", sep=\"\\t\", index_col=0)\n",
    "df = df.loc[:,['ESR1','PGR','ERBB2','MKI67','Subtype']]\n",
    "\n",
    "sns.boxplot(data=df.loc[df['Subtype']=='Triple-negative'])"
   ]
  },
  {
   "cell_type": "code",
   "execution_count": 98,
   "metadata": {},
   "outputs": [
    {
     "data": {
      "text/plain": [
       "<matplotlib.axes._subplots.AxesSubplot at 0x2940998d648>"
      ]
     },
     "execution_count": 98,
     "metadata": {},
     "output_type": "execute_result"
    },
    {
     "data": {
      "image/png": "[encoded data removed]",
      "text/plain": [
       "<Figure size 432x288 with 1 Axes>"
      ]
     },
     "metadata": {
      "needs_background": "light"
     },
     "output_type": "display_data"
    }
   ],
   "source": [
    "import pandas as pd\n",
    "import seaborn as sns\n",
    "import matplotlib.pyplot as plt\n",
    "\n",
    "df = pd.read_csv(\"BRCA_pam50.tsv\", sep=\"\\t\", index_col=0)\n",
    "df = df.loc[:,['ESR1','PGR','ERBB2','MKI67','Subtype']]\n",
    "\n",
    "sns.boxplot(data=df.loc[df['Subtype']=='Luminal A'])"
   ]
  },
  {
   "cell_type": "code",
   "execution_count": 99,
   "metadata": {},
   "outputs": [
    {
     "data": {
      "text/plain": [
       "<matplotlib.axes._subplots.AxesSubplot at 0x29409079408>"
      ]
     },
     "execution_count": 99,
     "metadata": {},
     "output_type": "execute_result"
    },
    {
     "data": {
      "image/png": "[encoded data removed]",
      "text/plain": [
       "<Figure size 432x288 with 1 Axes>"
      ]
     },
     "metadata": {
      "needs_background": "light"
     },
     "output_type": "display_data"
    }
   ],
   "source": [
    "import pandas as pd\n",
    "import seaborn as sns\n",
    "import matplotlib.pyplot as plt\n",
    "\n",
    "df = pd.read_csv(\"BRCA_pam50.tsv\", sep=\"\\t\", index_col=0)\n",
    "df = df.loc[:,['ESR1','PGR','ERBB2','MKI67','Subtype']]\n",
    "\n",
    "sns.boxplot(data=df.loc[df['Subtype']=='Luminal B'])"
   ]
  },
  {
   "cell_type": "code",
   "execution_count": 100,
   "metadata": {},
   "outputs": [
    {
     "data": {
      "text/plain": [
       "<matplotlib.axes._subplots.AxesSubplot at 0x29409121348>"
      ]
     },
     "execution_count": 100,
     "metadata": {},
     "output_type": "execute_result"
    },
    {
     "data": {
      "image/png": "[encoded data removed]",
      "text/plain": [
       "<Figure size 432x288 with 1 Axes>"
      ]
     },
     "metadata": {
      "needs_background": "light"
     },
     "output_type": "display_data"
    }
   ],
   "source": [
    "import pandas as pd\n",
    "import seaborn as sns\n",
    "import matplotlib.pyplot as plt\n",
    "\n",
    "df = pd.read_csv(\"BRCA_pam50.tsv\", sep=\"\\t\", index_col=0)\n",
    "df = df.loc[:,['ESR1','PGR','ERBB2','MKI67','Subtype']]\n",
    "\n",
    "sns.boxplot(data=df.loc[df['Subtype']=='HER2-enriched'])"
   ]
  },
  {
   "cell_type": "markdown",
   "metadata": {},
   "source": [
    "(Q25-Q75, approximately)\n",
    "\n",
    "Healthy:\n",
    "ESR1 - 2.5-4\n",
    "PGR - 1.5-3\n",
    "ERBB2 - 4-5\n",
    "MKI67 - 0.5-1\n",
    "\n",
    "Normal-like:\n",
    "ESR1 - 2-4\n",
    "PGR - 1-3\n",
    "ERBB2 - 4-5\n",
    "MKI67 - 1.5-3\n",
    "\n",
    "Triple-negative:\n",
    "ESR1 - <1\n",
    "PGR - ~0\n",
    "ERBB2 - ~4\n",
    "MKI67 - 3.5-5\n",
    "\n",
    "Luminal A:\n",
    "ESR1 - 4.5-6.5\n",
    "PGR - 1.5-4.5\n",
    "ERBB2 - 5-6\n",
    "MKI67 - 2-3\n",
    "\n",
    "Luminal B:\n",
    "ESR1 - 5-6.5\n",
    "PGR - 0.5-3.5\n",
    "ERBB2 - 4.5-6\n",
    "MKI67 - 3-4\n",
    "\n",
    "HER2-enriched:\n",
    "ESR1 - 0.5-2.5\n",
    "PGR - ~0\n",
    "ERBB2 - 6-9\n",
    "MKI67 - ~4"
   ]
  },
  {
   "cell_type": "markdown",
   "metadata": {},
   "source": [
    "# 5\n",
    "В файле human_coronavirus_aln_scores.tsv приведена матрица качеств выравниваний геномов 140 человеческих коронавирусов (первые 20 — геномы HCoV-HKU1, следующие 20 — MERS-CoV, далее SARS-CoV-2, HCoV-229E, HCoV-NL63, HCoV-OC43, SARS-CoV). Превратить эту матрицу в матрицу расстояний (придумать как), использовать полученную матрицу для визуализации методом t-SNE (см. аргумент metric=\"precomputed\"). Попробовать различные значения перплексии (нужно получить семь кластеров)."
   ]
  },
  {
   "cell_type": "code",
   "execution_count": 149,
   "metadata": {},
   "outputs": [
    {
     "data": {
      "text/plain": [
       "<matplotlib.axes._subplots.AxesSubplot at 0x2940d82d988>"
      ]
     },
     "execution_count": 149,
     "metadata": {},
     "output_type": "execute_result"
    },
    {
     "data": {
      "image/png": "[encoded data removed]",
      "text/plain": [
       "<Figure size 432x288 with 1 Axes>"
      ]
     },
     "metadata": {
      "needs_background": "light"
     },
     "output_type": "display_data"
    }
   ],
   "source": [
    "import pandas as pd\n",
    "import seaborn as sns\n",
    "from sklearn.manifold import TSNE\n",
    "\n",
    "df = pd.read_csv(\"human_coronavirus_aln_scores.tsv\", sep=\"\\t\", index_col=0)\n",
    "df=1/(df/5000)-1\n",
    "\n",
    "model = TSNE(perplexity=15,metric='precomputed')\n",
    "df=model.fit_transform(df)\n",
    "df=pd.DataFrame(df,columns=['TSNE1','TSNE2'])\n",
    "df['virus type']=['HCoV-HKU1']*20+['MERS-CoV']*20+['SARS-CoV-2']*20+['HCoV-229E']*20+['HCoV-NL63']*20+['HCoV-OC43']*20+['SARS-CoV']*20\n",
    "\n",
    "sns.scatterplot(data=df,x='TSNE1',y='TSNE2',hue='virus type')"
   ]
  }
 ],
 "metadata": {
  "kernelspec": {
   "display_name": "Python 3",
   "language": "python",
   "name": "python3"
  },
  "language_info": {
   "codemirror_mode": {
    "name": "ipython",
    "version": 3
   },
   "file_extension": ".py",
   "mimetype": "text/x-python",
   "name": "python",
   "nbconvert_exporter": "python",
   "pygments_lexer": "ipython3",
   "version": "3.7.4"
  }
 },
 "nbformat": 4,
 "nbformat_minor": 2
}
